{
  "nbformat": 4,
  "nbformat_minor": 0,
  "metadata": {
    "colab": {
      "provenance": []
    },
    "kernelspec": {
      "name": "python3",
      "display_name": "Python 3"
    },
    "language_info": {
      "name": "python"
    }
  },
  "cells": [
    {
      "cell_type": "markdown",
      "source": [
        "#**Telecom** X - Análisis de Evasión de **Clientes**"
      ],
      "metadata": {
        "id": "jtlZgj-LOxin"
      }
    },
    {
      "cell_type": "markdown",
      "source": [
        "##Importación de librerías"
      ],
      "metadata": {
        "id": "JK2RdtvuO8HQ"
      }
    },
    {
      "cell_type": "code",
      "source": [],
      "metadata": {
        "id": "QZOEjnCAPFog"
      },
      "execution_count": 1,
      "outputs": []
    },
    {
      "cell_type": "markdown",
      "source": [
        "#📌 Extracción"
      ],
      "metadata": {
        "id": "4foVEKhrlqcH"
      }
    },
    {
      "cell_type": "code",
      "source": [],
      "metadata": {
        "id": "oAsgyLZ5O7MY"
      },
      "execution_count": null,
      "outputs": []
    },
    {
      "cell_type": "code",
      "source": [],
      "metadata": {
        "id": "1--uPM88l7JH"
      },
      "execution_count": null,
      "outputs": []
    },
    {
      "cell_type": "markdown",
      "source": [
        "#🔧 Transformación"
      ],
      "metadata": {
        "id": "1lSZP8zmmGZu"
      }
    },
    {
      "cell_type": "code",
      "source": [],
      "metadata": {
        "id": "bsm-WTLjmHvt"
      },
      "execution_count": null,
      "outputs": []
    },
    {
      "cell_type": "markdown",
      "source": [
        "#📊 Carga y análisis"
      ],
      "metadata": {
        "id": "6XnTC2NTmMRL"
      }
    },
    {
      "cell_type": "code",
      "source": [],
      "metadata": {
        "id": "1jgUnLqTmPdd"
      },
      "execution_count": null,
      "outputs": []
    },
    {
      "cell_type": "markdown",
      "source": [
        "#📄Informe final"
      ],
      "metadata": {
        "id": "v-WzfSvTmaw9"
      }
    },
    {
      "cell_type": "code",
      "source": [],
      "metadata": {
        "id": "XMTac0YJmeK9"
      },
      "execution_count": null,
      "outputs": []
    }
  ]
}